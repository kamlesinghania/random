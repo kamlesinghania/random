{
 "cells": [
  {
   "cell_type": "code",
   "execution_count": 52,
   "metadata": {},
   "outputs": [],
   "source": [
    "from azure.identity import DefaultAzureCredential\n",
    "from azure.core.credentials import AzureKeyCredential\n",
    "import os\n",
    "from azure.search.documents.indexes import SearchIndexClient\n",
    "from typing import List, Optional, Union\n",
    "from langchain.docstore.document import Document\n",
    "\n",
    "\n",
    "from azure.core.credentials_async import AsyncTokenCredential\n",
    "from azure.search.documents.aio import SearchClient\n",
    "from azure.search.documents.indexes.aio import SearchIndexClient, SearchIndexerClient\n",
    "\n",
    "\n",
    "from azure.search.documents.indexes.models import (\n",
    "    HnswAlgorithmConfiguration,\n",
    "    HnswParameters,\n",
    "    SearchableField,\n",
    "    SearchField,\n",
    "    SearchFieldDataType,\n",
    "    SearchIndex,\n",
    "    SemanticConfiguration,\n",
    "    SemanticField,\n",
    "    SemanticPrioritizedFields,\n",
    "    SemanticSearch,\n",
    "    SimpleField,\n",
    "    VectorSearch,\n",
    "    VectorSearchProfile,\n",
    "    VectorSearchVectorizer,\n",
    ")\n",
    "\n",
    "\n"
   ]
  },
  {
   "cell_type": "code",
   "execution_count": 8,
   "metadata": {},
   "outputs": [],
   "source": [
    "AZURE_SEARCH_FULL_INDEX = index_name=\"gptkbindex\"\n",
    "AZURE_SEARCH_SERVICE = \"temple-search\"\n",
    "AZURE_SEARCH_ENDPOINT = f\"https://{AZURE_SEARCH_SERVICE}.search.windows.net\"\n"
   ]
  },
  {
   "cell_type": "code",
   "execution_count": 21,
   "metadata": {},
   "outputs": [],
   "source": [
    "\n",
    "class SearchInfo:\n",
    "    \"\"\"\n",
    "    Class representing a connection to a search service\n",
    "    To learn more, please visit https://learn.microsoft.com/azure/search/search-what-is-azure-search\n",
    "    \"\"\"\n",
    "\n",
    "    def __init__(self, endpoint: str, credential: Union[AsyncTokenCredential, AzureKeyCredential], index_name: str):\n",
    "        self.endpoint = endpoint\n",
    "        self.credential = credential\n",
    "        self.index_name = index_name\n",
    "\n",
    "    def create_search_client(self) -> SearchClient:\n",
    "        return SearchClient(endpoint=self.endpoint, index_name=self.index_name, credential=self.credential)\n",
    "\n",
    "    def create_search_index_client(self) -> SearchIndexClient:\n",
    "        return SearchIndexClient(endpoint=self.endpoint, credential=self.credential)\n",
    "\n",
    "    def create_search_indexer_client(self) -> SearchIndexerClient:\n",
    "        return SearchIndexerClient(endpoint=self.endpoint, credential=self.credential)\n"
   ]
  },
  {
   "cell_type": "code",
   "execution_count": 2,
   "metadata": {},
   "outputs": [],
   "source": [
    "#define fields for the index\n",
    "fields = [\n",
    "                (\n",
    "                    SimpleField(name=\"id\", type=\"Edm.String\", key=True)\n",
    "                    \n",
    "                ),\n",
    "                SearchableField(\n",
    "                    name=\"content\",\n",
    "                    type=\"Edm.String\",\n",
    "                    analyzer_name=\"en.microsoft\",\n",
    "                ),\n",
    "                SearchField(\n",
    "                    name=\"embedding\",\n",
    "                    type=SearchFieldDataType.Collection(SearchFieldDataType.Single),\n",
    "                    hidden=False,\n",
    "                    searchable=True,\n",
    "                    filterable=False,\n",
    "                    sortable=False,\n",
    "                    facetable=False,\n",
    "                    vector_search_dimensions=1536,\n",
    "                    vector_search_profile_name=\"embedding_config\",\n",
    "                ),\n",
    "                SimpleField(name=\"category\", type=\"Edm.String\", filterable=True, facetable=True),\n",
    "                SimpleField(\n",
    "                    name=\"sourcepage\",\n",
    "                    type=\"Edm.String\",\n",
    "                    filterable=True,\n",
    "                    facetable=True,\n",
    "                ),\n",
    "                SimpleField(\n",
    "                    name=\"sourcefile\",\n",
    "                    type=\"Edm.String\",\n",
    "                    filterable=True,\n",
    "                    facetable=True,\n",
    "                ),\n",
    "                SimpleField(\n",
    "                    name=\"storageUrl\",\n",
    "                    type=\"Edm.String\",\n",
    "                    filterable=True,\n",
    "                    facetable=False,\n",
    "                ),\n",
    "            ]\n"
   ]
  },
  {
   "cell_type": "code",
   "execution_count": 6,
   "metadata": {},
   "outputs": [],
   "source": [
    "index = SearchIndex(\n",
    "                name=AZURE_SEARCH_FULL_INDEX,\n",
    "                fields=fields,\n",
    "                semantic_search=SemanticSearch(\n",
    "                    configurations=[\n",
    "                        SemanticConfiguration(\n",
    "                            name=\"default\",\n",
    "                            prioritized_fields=SemanticPrioritizedFields(\n",
    "                                title_field=None, content_fields=[SemanticField(field_name=\"content\")]\n",
    "                            ),\n",
    "                        )\n",
    "                    ]\n",
    "                ),\n",
    "                vector_search=VectorSearch(\n",
    "                    algorithms=[\n",
    "                        HnswAlgorithmConfiguration(\n",
    "                            name=\"hnsw_config\",\n",
    "                            parameters=HnswParameters(metric=\"cosine\"),\n",
    "                        )\n",
    "                    ],\n",
    "                    profiles=[\n",
    "                        VectorSearchProfile(\n",
    "                            name=\"embedding_config\",\n",
    "                            algorithm_configuration_name=\"hnsw_config\",\n",
    "                            vectorizer=(\n",
    "                                None\n",
    "                            ),\n",
    "                        ),\n",
    "                    ],\n",
    "                ),\n",
    "            )"
   ]
  },
  {
   "cell_type": "code",
   "execution_count": 3,
   "metadata": {},
   "outputs": [
    {
     "name": "stdout",
     "output_type": "stream",
     "text": [
      "Logged in to Azure.ing subscriptions...\n"
     ]
    }
   ],
   "source": [
    "#First create the search service in the Azure portal and turn on API access control\n",
    "\n",
    "!azd auth login"
   ]
  },
  {
   "cell_type": "code",
   "execution_count": 13,
   "metadata": {},
   "outputs": [],
   "source": [
    "search_index_client=SearchIndexClient(endpoint=AZURE_SEARCH_ENDPOINT, credential=DefaultAzureCredential())"
   ]
  },
  {
   "cell_type": "code",
   "execution_count": 16,
   "metadata": {},
   "outputs": [
    {
     "name": "stdout",
     "output_type": "stream",
     "text": [
      "Search index %s already exists gptkbindex\n"
     ]
    }
   ],
   "source": [
    "if index_name not in [name for name in search_index_client.list_index_names()]:\n",
    "                print(\"Creating search index\", index_name)\n",
    "                search_index_client.create_index(index)\n",
    "else:\n",
    "    print(\"Search index already exists\", index_name)\n",
    "    index_definition = search_index_client.get_index(index_name)\n",
    "    if not any(field.name == \"storageUrl\" for field in index_definition.fields):\n",
    "        print(\"Adding storageUrl field to index:\",index_name)\n",
    "        index_definition.fields.append(\n",
    "            SimpleField(\n",
    "                name=\"storageUrl\",\n",
    "                type=\"Edm.String\",\n",
    "                filterable=True,\n",
    "                facetable=False,\n",
    "            ),\n",
    "        )\n",
    "        search_index_client.create_or_update_index(index_definition)\n"
   ]
  },
  {
   "cell_type": "markdown",
   "metadata": {},
   "source": [
    "## Data Ingestion"
   ]
  },
  {
   "cell_type": "code",
   "execution_count": 26,
   "metadata": {},
   "outputs": [],
   "source": [
    "search_info=SearchInfo(endpoint=AZURE_SEARCH_ENDPOINT, credential=DefaultAzureCredential(), index_name=AZURE_SEARCH_FULL_INDEX)"
   ]
  },
  {
   "cell_type": "code",
   "execution_count": 98,
   "metadata": {},
   "outputs": [],
   "source": [
    "from openai import AsyncOpenAI\n",
    "from blobmanager import BlobManager\n",
    "from listfilestrategy import File\n",
    "openai_client = AsyncOpenAI(api_key=\"\")\n"
   ]
  },
  {
   "cell_type": "code",
   "execution_count": 33,
   "metadata": {},
   "outputs": [],
   "source": [
    "async def create_embedding(lis,client):\n",
    "    emb_response = await client.embeddings.create(\n",
    "                        model=\"text-embedding-ada-002\", input=lis,\n",
    "                    )\n",
    "    return [data.embedding for data in emb_response.data]"
   ]
  },
  {
   "cell_type": "code",
   "execution_count": null,
   "metadata": {},
   "outputs": [],
   "source": []
  },
  {
   "cell_type": "code",
   "execution_count": 47,
   "metadata": {},
   "outputs": [],
   "source": [
    "# await create_embedding([\"hello\",\"world\"],openai_client)\n",
    "import os\n",
    "\n",
    "from langchain_community.vectorstores.azuresearch import AzureSearch\n",
    "from langchain_openai import AzureOpenAIEmbeddings, OpenAIEmbeddings\n",
    "# Option 1: Use OpenAIEmbeddings with OpenAI account\n",
    "embeddings: OpenAIEmbeddings = OpenAIEmbeddings(\n",
    "    openai_api_key=\"\",  model=\"text-embedding-ada-002\"\n",
    ")\n",
    "\n",
    "# Option 2: Use AzureOpenAIEmbeddings with an Azure account\n",
    "# embeddings: AzureOpenAIEmbeddings = AzureOpenAIEmbeddings(\n",
    "#     azure_deployment=azure_deployment,\n",
    "#     openai_api_version=azure_openai_api_version,\n",
    "#     azure_endpoint=azure_endpoint,\n",
    "#     api_key=azure_openai_api_key,\n",
    "# )"
   ]
  },
  {
   "cell_type": "code",
   "execution_count": 105,
   "metadata": {},
   "outputs": [],
   "source": [
    "em=embeddings.embed_documents([\"The blue fox is really thirsty. He is 99.8 years old\"])"
   ]
  },
  {
   "cell_type": "code",
   "execution_count": 100,
   "metadata": {},
   "outputs": [
    {
     "data": {
      "text/plain": [
       "'role.pdf'"
      ]
     },
     "execution_count": 100,
     "metadata": {},
     "output_type": "execute_result"
    }
   ],
   "source": [
    "os.path.basename(\"role.pdf\")"
   ]
  },
  {
   "cell_type": "code",
   "execution_count": 106,
   "metadata": {},
   "outputs": [],
   "source": [
    "Documents= [\n",
    "        {\n",
    "            \"id\": \"doc3\",\n",
    "            \"content\": \"The blue fox is really thirsty. He is 99.8 years old\",\n",
    "            \"category\": \"animals\",\n",
    "            \"sourcepage\": (BlobManager.sourcepage_from_file_page(\n",
    "                                filename=\"Intro-to-Data-and Data-Science-Course-Notes-365-Data-Science.pdf\",\n",
    "                                page=2,\n",
    "                            )),\n",
    "            \"sourcefile\": \"Intro-to-Data-and Data-Science-Course-Notes-365-Data-Science.pdf\",\n",
    "            \"storageUrl\": \"https://st2szpvrpnkzjuk.blob.core.windows.net/content/role_library.pdf\",\n",
    "            \"embedding\": em[0],\n",
    "        },\n",
    "        # {\n",
    "        #     \"id\": \"doc5\",\n",
    "        #     \"content\": \"Lorem ipsum dolor sit amet, consectetur adipiscing elit.\",\n",
    "        #     \"category\": \"lorem\",\n",
    "        #     \"sourcepage\": \"page2\",\n",
    "        #     \"sourcefile\": \"role_library.pdf\",\n",
    "        #     \"storageUrl\": \"https://st2szpvrpnkzjuk.blob.core.windows.net/content/role_library.pdf\",\n",
    "        #     \"embedding\":e[1]\n",
    "        # }\n",
    "    ]\n"
   ]
  },
  {
   "cell_type": "code",
   "execution_count": 73,
   "metadata": {},
   "outputs": [
    {
     "data": {
      "text/plain": [
       "Document(page_content='The quick brown fox jumps over the lazy dog.', metadata={'id': 'doc1', 'content': 'The quick brown fox jumps over the lazy dog.', 'category': 'animals', 'sourcepage': 'page1', 'sourcefile': 'animals.pdf', 'storageUrl': 'https://st2szpvrpnkzjuk.blob.core.windows.net/content/role_library.pdf'})"
      ]
     },
     "execution_count": 73,
     "metadata": {},
     "output_type": "execute_result"
    }
   ],
   "source": [
    "document1"
   ]
  },
  {
   "cell_type": "code",
   "execution_count": 79,
   "metadata": {},
   "outputs": [
    {
     "ename": "HttpResponseError",
     "evalue": "() The request is invalid. Details: The property 'metadata' does not exist on type 'search.documentFields'. Make sure to only use property names that are defined by the type.\nCode: \nMessage: The request is invalid. Details: The property 'metadata' does not exist on type 'search.documentFields'. Make sure to only use property names that are defined by the type.",
     "output_type": "error",
     "traceback": [
      "\u001b[0;31m---------------------------------------------------------------------------\u001b[0m",
      "\u001b[0;31mHttpResponseError\u001b[0m                         Traceback (most recent call last)",
      "Cell \u001b[0;32mIn[79], line 1\u001b[0m\n\u001b[0;32m----> 1\u001b[0m \u001b[43mvector_store\u001b[49m\u001b[38;5;241;43m.\u001b[39;49m\u001b[43madd_documents\u001b[49m\u001b[43m(\u001b[49m\u001b[43mdocuments\u001b[49m\u001b[38;5;241;43m=\u001b[39;49m\u001b[43m[\u001b[49m\u001b[43mdocument1\u001b[49m\u001b[43m,\u001b[49m\u001b[43mdocument2\u001b[49m\u001b[43m]\u001b[49m\u001b[43m)\u001b[49m\n",
      "File \u001b[0;32m~/miniconda3/envs/Temple/lib/python3.11/site-packages/langchain_core/vectorstores.py:138\u001b[0m, in \u001b[0;36mVectorStore.add_documents\u001b[0;34m(self, documents, **kwargs)\u001b[0m\n\u001b[1;32m    136\u001b[0m texts \u001b[38;5;241m=\u001b[39m [doc\u001b[38;5;241m.\u001b[39mpage_content \u001b[38;5;28;01mfor\u001b[39;00m doc \u001b[38;5;129;01min\u001b[39;00m documents]\n\u001b[1;32m    137\u001b[0m metadatas \u001b[38;5;241m=\u001b[39m [doc\u001b[38;5;241m.\u001b[39mmetadata \u001b[38;5;28;01mfor\u001b[39;00m doc \u001b[38;5;129;01min\u001b[39;00m documents]\n\u001b[0;32m--> 138\u001b[0m \u001b[38;5;28;01mreturn\u001b[39;00m \u001b[38;5;28;43mself\u001b[39;49m\u001b[38;5;241;43m.\u001b[39;49m\u001b[43madd_texts\u001b[49m\u001b[43m(\u001b[49m\u001b[43mtexts\u001b[49m\u001b[43m,\u001b[49m\u001b[43m \u001b[49m\u001b[43mmetadatas\u001b[49m\u001b[43m,\u001b[49m\u001b[43m \u001b[49m\u001b[38;5;241;43m*\u001b[39;49m\u001b[38;5;241;43m*\u001b[39;49m\u001b[43mkwargs\u001b[49m\u001b[43m)\u001b[49m\n",
      "File \u001b[0;32m~/miniconda3/envs/Temple/lib/python3.11/site-packages/langchain_community/vectorstores/azuresearch.py:374\u001b[0m, in \u001b[0;36mAzureSearch.add_texts\u001b[0;34m(self, texts, metadatas, **kwargs)\u001b[0m\n\u001b[1;32m    371\u001b[0m     \u001b[38;5;28;01mreturn\u001b[39;00m ids\n\u001b[1;32m    373\u001b[0m \u001b[38;5;66;03m# Upload data to index\u001b[39;00m\n\u001b[0;32m--> 374\u001b[0m response \u001b[38;5;241m=\u001b[39m \u001b[38;5;28;43mself\u001b[39;49m\u001b[38;5;241;43m.\u001b[39;49m\u001b[43mclient\u001b[49m\u001b[38;5;241;43m.\u001b[39;49m\u001b[43mupload_documents\u001b[49m\u001b[43m(\u001b[49m\u001b[43mdocuments\u001b[49m\u001b[38;5;241;43m=\u001b[39;49m\u001b[43mdata\u001b[49m\u001b[43m)\u001b[49m\n\u001b[1;32m    375\u001b[0m \u001b[38;5;66;03m# Check if all documents were successfully uploaded\u001b[39;00m\n\u001b[1;32m    376\u001b[0m \u001b[38;5;28;01mif\u001b[39;00m \u001b[38;5;28mall\u001b[39m([r\u001b[38;5;241m.\u001b[39msucceeded \u001b[38;5;28;01mfor\u001b[39;00m r \u001b[38;5;129;01min\u001b[39;00m response]):\n",
      "File \u001b[0;32m~/miniconda3/envs/Temple/lib/python3.11/site-packages/azure/search/documents/_search_client.py:573\u001b[0m, in \u001b[0;36mSearchClient.upload_documents\u001b[0;34m(self, documents, **kwargs)\u001b[0m\n\u001b[1;32m    570\u001b[0m batch\u001b[38;5;241m.\u001b[39madd_upload_actions(documents)\n\u001b[1;32m    572\u001b[0m kwargs[\u001b[38;5;124m\"\u001b[39m\u001b[38;5;124mheaders\u001b[39m\u001b[38;5;124m\"\u001b[39m] \u001b[38;5;241m=\u001b[39m \u001b[38;5;28mself\u001b[39m\u001b[38;5;241m.\u001b[39m_merge_client_headers(kwargs\u001b[38;5;241m.\u001b[39mget(\u001b[38;5;124m\"\u001b[39m\u001b[38;5;124mheaders\u001b[39m\u001b[38;5;124m\"\u001b[39m))\n\u001b[0;32m--> 573\u001b[0m results \u001b[38;5;241m=\u001b[39m \u001b[38;5;28;43mself\u001b[39;49m\u001b[38;5;241;43m.\u001b[39;49m\u001b[43mindex_documents\u001b[49m\u001b[43m(\u001b[49m\u001b[43mbatch\u001b[49m\u001b[43m,\u001b[49m\u001b[43m \u001b[49m\u001b[38;5;241;43m*\u001b[39;49m\u001b[38;5;241;43m*\u001b[39;49m\u001b[43mkwargs\u001b[49m\u001b[43m)\u001b[49m\n\u001b[1;32m    574\u001b[0m \u001b[38;5;28;01mreturn\u001b[39;00m cast(List[IndexingResult], results)\n",
      "File \u001b[0;32m~/miniconda3/envs/Temple/lib/python3.11/site-packages/azure/core/tracing/decorator.py:78\u001b[0m, in \u001b[0;36mdistributed_trace.<locals>.decorator.<locals>.wrapper_use_tracer\u001b[0;34m(*args, **kwargs)\u001b[0m\n\u001b[1;32m     76\u001b[0m span_impl_type \u001b[38;5;241m=\u001b[39m settings\u001b[38;5;241m.\u001b[39mtracing_implementation()\n\u001b[1;32m     77\u001b[0m \u001b[38;5;28;01mif\u001b[39;00m span_impl_type \u001b[38;5;129;01mis\u001b[39;00m \u001b[38;5;28;01mNone\u001b[39;00m:\n\u001b[0;32m---> 78\u001b[0m     \u001b[38;5;28;01mreturn\u001b[39;00m \u001b[43mfunc\u001b[49m\u001b[43m(\u001b[49m\u001b[38;5;241;43m*\u001b[39;49m\u001b[43margs\u001b[49m\u001b[43m,\u001b[49m\u001b[43m \u001b[49m\u001b[38;5;241;43m*\u001b[39;49m\u001b[38;5;241;43m*\u001b[39;49m\u001b[43mkwargs\u001b[49m\u001b[43m)\u001b[49m\n\u001b[1;32m     80\u001b[0m \u001b[38;5;66;03m# Merge span is parameter is set, but only if no explicit parent are passed\u001b[39;00m\n\u001b[1;32m     81\u001b[0m \u001b[38;5;28;01mif\u001b[39;00m merge_span \u001b[38;5;129;01mand\u001b[39;00m \u001b[38;5;129;01mnot\u001b[39;00m passed_in_parent:\n",
      "File \u001b[0;32m~/miniconda3/envs/Temple/lib/python3.11/site-packages/azure/search/documents/_search_client.py:672\u001b[0m, in \u001b[0;36mSearchClient.index_documents\u001b[0;34m(self, batch, **kwargs)\u001b[0m\n\u001b[1;32m    661\u001b[0m \u001b[38;5;129m@distributed_trace\u001b[39m\n\u001b[1;32m    662\u001b[0m \u001b[38;5;28;01mdef\u001b[39;00m \u001b[38;5;21mindex_documents\u001b[39m(\u001b[38;5;28mself\u001b[39m, batch: IndexDocumentsBatch, \u001b[38;5;241m*\u001b[39m\u001b[38;5;241m*\u001b[39mkwargs: Any) \u001b[38;5;241m-\u001b[39m\u001b[38;5;241m>\u001b[39m List[IndexingResult]:\n\u001b[1;32m    663\u001b[0m \u001b[38;5;250m    \u001b[39m\u001b[38;5;124;03m\"\"\"Specify a document operations to perform as a batch.\u001b[39;00m\n\u001b[1;32m    664\u001b[0m \n\u001b[1;32m    665\u001b[0m \u001b[38;5;124;03m    :param batch: A batch of document operations to perform.\u001b[39;00m\n\u001b[0;32m   (...)\u001b[0m\n\u001b[1;32m    670\u001b[0m \u001b[38;5;124;03m    :raises ~azure.search.documents.RequestEntityTooLargeError\u001b[39;00m\n\u001b[1;32m    671\u001b[0m \u001b[38;5;124;03m    \"\"\"\u001b[39;00m\n\u001b[0;32m--> 672\u001b[0m     \u001b[38;5;28;01mreturn\u001b[39;00m \u001b[38;5;28;43mself\u001b[39;49m\u001b[38;5;241;43m.\u001b[39;49m\u001b[43m_index_documents_actions\u001b[49m\u001b[43m(\u001b[49m\u001b[43mactions\u001b[49m\u001b[38;5;241;43m=\u001b[39;49m\u001b[43mbatch\u001b[49m\u001b[38;5;241;43m.\u001b[39;49m\u001b[43mactions\u001b[49m\u001b[43m,\u001b[49m\u001b[43m \u001b[49m\u001b[38;5;241;43m*\u001b[39;49m\u001b[38;5;241;43m*\u001b[39;49m\u001b[43mkwargs\u001b[49m\u001b[43m)\u001b[49m\n",
      "File \u001b[0;32m~/miniconda3/envs/Temple/lib/python3.11/site-packages/azure/search/documents/_search_client.py:680\u001b[0m, in \u001b[0;36mSearchClient._index_documents_actions\u001b[0;34m(self, actions, **kwargs)\u001b[0m\n\u001b[1;32m    678\u001b[0m batch \u001b[38;5;241m=\u001b[39m IndexBatch(actions\u001b[38;5;241m=\u001b[39mactions)\n\u001b[1;32m    679\u001b[0m \u001b[38;5;28;01mtry\u001b[39;00m:\n\u001b[0;32m--> 680\u001b[0m     batch_response \u001b[38;5;241m=\u001b[39m \u001b[38;5;28;43mself\u001b[39;49m\u001b[38;5;241;43m.\u001b[39;49m\u001b[43m_client\u001b[49m\u001b[38;5;241;43m.\u001b[39;49m\u001b[43mdocuments\u001b[49m\u001b[38;5;241;43m.\u001b[39;49m\u001b[43mindex\u001b[49m\u001b[43m(\u001b[49m\u001b[43mbatch\u001b[49m\u001b[38;5;241;43m=\u001b[39;49m\u001b[43mbatch\u001b[49m\u001b[43m,\u001b[49m\u001b[43m \u001b[49m\u001b[43merror_map\u001b[49m\u001b[38;5;241;43m=\u001b[39;49m\u001b[43merror_map\u001b[49m\u001b[43m,\u001b[49m\u001b[43m \u001b[49m\u001b[38;5;241;43m*\u001b[39;49m\u001b[38;5;241;43m*\u001b[39;49m\u001b[43mkwargs\u001b[49m\u001b[43m)\u001b[49m\n\u001b[1;32m    681\u001b[0m     \u001b[38;5;28;01mreturn\u001b[39;00m cast(List[IndexingResult], batch_response\u001b[38;5;241m.\u001b[39mresults)\n\u001b[1;32m    682\u001b[0m \u001b[38;5;28;01mexcept\u001b[39;00m RequestEntityTooLargeError:\n",
      "File \u001b[0;32m~/miniconda3/envs/Temple/lib/python3.11/site-packages/azure/core/tracing/decorator.py:78\u001b[0m, in \u001b[0;36mdistributed_trace.<locals>.decorator.<locals>.wrapper_use_tracer\u001b[0;34m(*args, **kwargs)\u001b[0m\n\u001b[1;32m     76\u001b[0m span_impl_type \u001b[38;5;241m=\u001b[39m settings\u001b[38;5;241m.\u001b[39mtracing_implementation()\n\u001b[1;32m     77\u001b[0m \u001b[38;5;28;01mif\u001b[39;00m span_impl_type \u001b[38;5;129;01mis\u001b[39;00m \u001b[38;5;28;01mNone\u001b[39;00m:\n\u001b[0;32m---> 78\u001b[0m     \u001b[38;5;28;01mreturn\u001b[39;00m \u001b[43mfunc\u001b[49m\u001b[43m(\u001b[49m\u001b[38;5;241;43m*\u001b[39;49m\u001b[43margs\u001b[49m\u001b[43m,\u001b[49m\u001b[43m \u001b[49m\u001b[38;5;241;43m*\u001b[39;49m\u001b[38;5;241;43m*\u001b[39;49m\u001b[43mkwargs\u001b[49m\u001b[43m)\u001b[49m\n\u001b[1;32m     80\u001b[0m \u001b[38;5;66;03m# Merge span is parameter is set, but only if no explicit parent are passed\u001b[39;00m\n\u001b[1;32m     81\u001b[0m \u001b[38;5;28;01mif\u001b[39;00m merge_span \u001b[38;5;129;01mand\u001b[39;00m \u001b[38;5;129;01mnot\u001b[39;00m passed_in_parent:\n",
      "File \u001b[0;32m~/miniconda3/envs/Temple/lib/python3.11/site-packages/azure/search/documents/_generated/operations/_documents_operations.py:1252\u001b[0m, in \u001b[0;36mDocumentsOperations.index\u001b[0;34m(self, batch, request_options, **kwargs)\u001b[0m\n\u001b[1;32m   1250\u001b[0m     map_error(status_code\u001b[38;5;241m=\u001b[39mresponse\u001b[38;5;241m.\u001b[39mstatus_code, response\u001b[38;5;241m=\u001b[39mresponse, error_map\u001b[38;5;241m=\u001b[39merror_map)\n\u001b[1;32m   1251\u001b[0m     error \u001b[38;5;241m=\u001b[39m \u001b[38;5;28mself\u001b[39m\u001b[38;5;241m.\u001b[39m_deserialize\u001b[38;5;241m.\u001b[39mfailsafe_deserialize(_models\u001b[38;5;241m.\u001b[39mSearchError, pipeline_response)\n\u001b[0;32m-> 1252\u001b[0m     \u001b[38;5;28;01mraise\u001b[39;00m HttpResponseError(response\u001b[38;5;241m=\u001b[39mresponse, model\u001b[38;5;241m=\u001b[39merror)\n\u001b[1;32m   1254\u001b[0m \u001b[38;5;28;01mif\u001b[39;00m response\u001b[38;5;241m.\u001b[39mstatus_code \u001b[38;5;241m==\u001b[39m \u001b[38;5;241m200\u001b[39m:\n\u001b[1;32m   1255\u001b[0m     deserialized \u001b[38;5;241m=\u001b[39m \u001b[38;5;28mself\u001b[39m\u001b[38;5;241m.\u001b[39m_deserialize(\u001b[38;5;124m\"\u001b[39m\u001b[38;5;124mIndexDocumentsResult\u001b[39m\u001b[38;5;124m\"\u001b[39m, pipeline_response)\n",
      "\u001b[0;31mHttpResponseError\u001b[0m: () The request is invalid. Details: The property 'metadata' does not exist on type 'search.documentFields'. Make sure to only use property names that are defined by the type.\nCode: \nMessage: The request is invalid. Details: The property 'metadata' does not exist on type 'search.documentFields'. Make sure to only use property names that are defined by the type."
     ]
    }
   ],
   "source": [
    "vector_store.add_documents(documents=[document1,document2])"
   ]
  },
  {
   "cell_type": "code",
   "execution_count": null,
   "metadata": {},
   "outputs": [],
   "source": [
    "async def update_content(\n",
    "     sections: List[Section], url: Optional[str] = None\n",
    "    ):\n",
    "        MAX_BATCH_SIZE = 1000\n",
    "        section_batches = [sections[i : i + MAX_BATCH_SIZE] for i in range(0, len(sections), MAX_BATCH_SIZE)]\n",
    "\n",
    "        async with search_info.create_search_client() as search_client:\n",
    "            for batch_index, batch in enumerate(section_batches):\n",
    "                documents = [\n",
    "                    {\n",
    "                        \"id\": f\"{section.content.filename_to_id()}-page-{section_index + batch_index * MAX_BATCH_SIZE}\",\n",
    "                        \"content\": section.split_page.text,\n",
    "                        \"category\": section.category,\n",
    "                        \"sourcepage\": (\n",
    "                            1\n",
    "                            # BlobManager.sourcepage_from_file_page(\n",
    "                            #     filename=section.content.filename(),\n",
    "                            #     page=section.split_page.page_num,\n",
    "                            # )\n",
    "                        ),\n",
    "                        \"sourcefile\": section.content.filename(),\n",
    "                    }\n",
    "                    for section_index, section in enumerate(batch)\n",
    "                ]\n",
    "                if url:\n",
    "                    for document in documents:\n",
    "                        document[\"storageUrl\"] = url\n",
    "                \n",
    "                embeddings = await create_embedding(\n",
    "                    [section.split_page.text for section in batch],openai_client\n",
    "                )\n",
    "                for i, document in enumerate(documents):\n",
    "                    document[\"embedding\"] = embeddings[i]\n",
    "        \n",
    "\n",
    "                await search_client.upload_documents(documents)"
   ]
  },
  {
   "cell_type": "code",
   "execution_count": 85,
   "metadata": {},
   "outputs": [],
   "source": [
    "c=search_info.create_search_client()"
   ]
  },
  {
   "cell_type": "code",
   "execution_count": 89,
   "metadata": {},
   "outputs": [],
   "source": [
    "e=await create_embedding([\"The quick brown fox jumps over the lazy dog.\",\"Lorem ipsum dolor sit amet, consectetur adipiscing elit.\"],openai_client)"
   ]
  },
  {
   "cell_type": "code",
   "execution_count": 107,
   "metadata": {},
   "outputs": [
    {
     "data": {
      "text/plain": [
       "[<azure.search.documents._generated.models._models_py3.IndexingResult at 0x133597410>]"
      ]
     },
     "execution_count": 107,
     "metadata": {},
     "output_type": "execute_result"
    }
   ],
   "source": [
    "await c.upload_documents(Documents)"
   ]
  },
  {
   "cell_type": "markdown",
   "metadata": {},
   "source": [
    "### Dont forget to turn on semantic ranking in the azure portal"
   ]
  }
 ],
 "metadata": {
  "kernelspec": {
   "display_name": "Temple",
   "language": "python",
   "name": "python3"
  },
  "language_info": {
   "codemirror_mode": {
    "name": "ipython",
    "version": 3
   },
   "file_extension": ".py",
   "mimetype": "text/x-python",
   "name": "python",
   "nbconvert_exporter": "python",
   "pygments_lexer": "ipython3",
   "version": "3.11.9"
  }
 },
 "nbformat": 4,
 "nbformat_minor": 2
}
