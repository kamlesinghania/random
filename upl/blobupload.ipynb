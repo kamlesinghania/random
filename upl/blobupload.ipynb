{
 "cells": [
  {
   "cell_type": "code",
   "execution_count": 2,
   "metadata": {},
   "outputs": [],
   "source": [
    "import asyncio\n",
    "from azure.identity.aio import DefaultAzureCredential\n",
    "from blobmanager import BlobManager\n",
    "from listfilestrategy import LocalListFileStrategy\n",
    "\n"
   ]
  },
  {
   "cell_type": "code",
   "execution_count": 5,
   "metadata": {},
   "outputs": [],
   "source": [
    "async def main():\n",
    "    # Configure the BlobManager with your storage account details\n",
    "    blob_manager = BlobManager(\n",
    "        endpoint=\"https://<account_name>.blob.core.windows.net\",\n",
    "        container=\"content\",\n",
    "        account=\"<account_name>\",\n",
    "        credential=DefaultAzureCredential(),\n",
    "        resourceGroup=\"rg-Temple\",\n",
    "        subscriptionId=\"<subid>\",\n",
    "        store_page_images=False\n",
    "    )\n",
    "\n",
    "    # Create an instance of LocalListFileStrategy with the path pattern for PDF files\n",
    "    file_strategy = LocalListFileStrategy(path_pattern=\"./data/*.pdf\")\n",
    "\n",
    "    # Iterate over the files and upload them to Blob Storage\n",
    "    async for file in file_strategy.list():\n",
    "        await blob_manager.upload_blob(file)\n",
    "        file.close()\n",
    "\n",
    "await main()"
   ]
  },
  {
   "cell_type": "code",
   "execution_count": null,
   "metadata": {},
   "outputs": [],
   "source": []
  }
 ],
 "metadata": {
  "kernelspec": {
   "display_name": "Temple",
   "language": "python",
   "name": "python3"
  },
  "language_info": {
   "codemirror_mode": {
    "name": "ipython",
    "version": 3
   },
   "file_extension": ".py",
   "mimetype": "text/x-python",
   "name": "python",
   "nbconvert_exporter": "python",
   "pygments_lexer": "ipython3",
   "version": "3.11.9"
  }
 },
 "nbformat": 4,
 "nbformat_minor": 2
}
